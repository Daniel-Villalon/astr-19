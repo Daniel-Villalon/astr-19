{
 "cells": [
  {
   "cell_type": "code",
   "execution_count": null,
   "id": "f60919e8-d01d-4ada-8b92-7da7ffb2b067",
   "metadata": {},
   "outputs": [],
   "source": [
    "import numpy as np\n",
    "x_array = np.linspace(0, 2 * np.pi, 1000)"
   ]
  },
  {
   "cell_type": "code",
   "execution_count": null,
   "id": "443c4482-752f-435f-9a14-5595f477bc6b",
   "metadata": {},
   "outputs": [],
   "source": [
    "def sinFunc(x):\n",
    "    valuesOFsin = np.sin(x)\n",
    "    return valuesOFsin\n",
    "sin_x = sinFunc(x_array)"
   ]
  },
  {
   "cell_type": "code",
   "execution_count": null,
   "id": "95e42469-4f11-4dc2-ba48-8ba55dc8c1aa",
   "metadata": {},
   "outputs": [],
   "source": [
    "def cosfFunc(x):\n",
    "    valuesOFcos = np.cos(x)\n",
    "    return valuesOFcos\n",
    "cos_x = cosfFunc(x_array)"
   ]
  },
  {
   "cell_type": "code",
   "execution_count": null,
   "id": "e358fd22-d9d6-42a7-b5be-8bf94ea2fa6c",
   "metadata": {},
   "outputs": [],
   "source": [
    "print(\"  x   | sin(x)| cos(x)\")\n",
    "print(\"----------------------\")\n",
    "for i in range(10):\n",
    "    print(f'{x_array[i]:.3f} | {sin_x[i]:.3f} | {cos_x[i]:.3f}')"
   ]
  }
 ],
 "metadata": {
  "kernelspec": {
   "display_name": "Python 3 (ipykernel)",
   "language": "python",
   "name": "python3"
  },
  "language_info": {
   "codemirror_mode": {
    "name": "ipython",
    "version": 3
   },
   "file_extension": ".py",
   "mimetype": "text/x-python",
   "name": "python",
   "nbconvert_exporter": "python",
   "pygments_lexer": "ipython3",
   "version": "3.8.10"
  }
 },
 "nbformat": 4,
 "nbformat_minor": 5
}
