{
 "cells": [
  {
   "cell_type": "code",
   "execution_count": 5,
   "id": "f60919e8-d01d-4ada-8b92-7da7ffb2b067",
   "metadata": {},
   "outputs": [],
   "source": [
    "import numpy as np\n",
    "x_array = np.linspace(0, 2 * np.pi, 1000)"
   ]
  },
  {
   "cell_type": "markdown",
   "id": "48e3d310-816a-40b1-a390-2f33217aa5e3",
   "metadata": {},
   "source": [
    "This imports the numpy and creates and array of numbers from 0 to 2pi in 1000 steps."
   ]
  },
  {
   "cell_type": "code",
   "execution_count": 6,
   "id": "443c4482-752f-435f-9a14-5595f477bc6b",
   "metadata": {},
   "outputs": [],
   "source": [
    "def sinFunc(x):\n",
    "    valuesOFsin = np.sin(x)\n",
    "    return valuesOFsin\n",
    "sin_x = sinFunc(x_array)"
   ]
  },
  {
   "cell_type": "markdown",
   "id": "63072268-7328-4cd6-9275-a76df6dfaa74",
   "metadata": {},
   "source": [
    "This function calculates all the sin values using numpy."
   ]
  },
  {
   "cell_type": "code",
   "execution_count": 7,
   "id": "95e42469-4f11-4dc2-ba48-8ba55dc8c1aa",
   "metadata": {},
   "outputs": [],
   "source": [
    "def cosfFunc(x):\n",
    "    valuesOFcos = np.cos(x)\n",
    "    return valuesOFcos\n",
    "cos_x = cosfFunc(x_array)"
   ]
  },
  {
   "cell_type": "markdown",
   "id": "771420a1-3462-40ef-ac8b-1aae94af13b1",
   "metadata": {},
   "source": [
    "This function calculates all the values of cos using numpy. "
   ]
  },
  {
   "cell_type": "code",
   "execution_count": 8,
   "id": "e358fd22-d9d6-42a7-b5be-8bf94ea2fa6c",
   "metadata": {},
   "outputs": [
    {
     "name": "stdout",
     "output_type": "stream",
     "text": [
      "  x   | sin(x)| cos(x)\n",
      "----------------------\n",
      "0.000 | 0.000 | 1.000\n",
      "0.006 | 0.006 | 1.000\n",
      "0.013 | 0.013 | 1.000\n",
      "0.019 | 0.019 | 1.000\n",
      "0.025 | 0.025 | 1.000\n",
      "0.031 | 0.031 | 1.000\n",
      "0.038 | 0.038 | 0.999\n",
      "0.044 | 0.044 | 0.999\n",
      "0.050 | 0.050 | 0.999\n",
      "0.057 | 0.057 | 0.998\n"
     ]
    }
   ],
   "source": [
    "print(\"  x   | sin(x)| cos(x)\")\n",
    "print(\"----------------------\")\n",
    "for i in range(10):\n",
    "    print(f'{x_array[i]:.3f} | {sin_x[i]:.3f} | {cos_x[i]:.3f}')"
   ]
  },
  {
   "cell_type": "markdown",
   "id": "6572734e-a745-4c20-b0f0-cfbb3f77cc3c",
   "metadata": {},
   "source": [
    "prints the value x, sun(x), cos(x) in an organized manner and printing the values in three decimals places, 10 times. "
   ]
  }
 ],
 "metadata": {
  "kernelspec": {
   "display_name": "Python 3 (ipykernel)",
   "language": "python",
   "name": "python3"
  },
  "language_info": {
   "codemirror_mode": {
    "name": "ipython",
    "version": 3
   },
   "file_extension": ".py",
   "mimetype": "text/x-python",
   "name": "python",
   "nbconvert_exporter": "python",
   "pygments_lexer": "ipython3",
   "version": "3.8.10"
  }
 },
 "nbformat": 4,
 "nbformat_minor": 5
}
