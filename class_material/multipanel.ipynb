{
 "cells": [
  {
   "cell_type": "code",
   "execution_count": null,
   "id": "a4c3d16d-7024-4964-90a7-1768f277172e",
   "metadata": {},
   "outputs": [],
   "source": [
    "%matplotlib inline\n",
    "import numpy as np \n",
    "import matplotlib.pyplot as plt"
   ]
  },
  {
   "cell_type": "code",
   "execution_count": null,
   "id": "223d911d-e1ce-4519-968d-63c3d74221be",
   "metadata": {},
   "outputs": [],
   "source": [
    "x = np.linspace(0,2*np.pi,100)\n",
    "print(x[-1],2*np.pi)\n",
    "\n",
    "y = np.sin(x)\n",
    "z = np.cos(x)\n",
    "w = np.sin(4*x)\n",
    "v = np.cos(4*x)"
   ]
  },
  {
   "cell_type": "code",
   "execution_count": null,
   "id": "d1dfd585-3348-4ef4-88c6-b5c8ec6a459f",
   "metadata": {},
   "outputs": [],
   "source": [
    "#this mean generate 1 row and 2 columns\n",
    "f, axarr = plt.subplots(1, 2)\n",
    "\n",
    "#first panel\n",
    "axarr[0].plot(x, y)\n",
    "axarr[0].set_xlabel('x')\n",
    "axarr[0].set_ylabel('sin(x)')\n",
    "axarr[0].set_title(r'$\\sin(x)$')\n",
    "\n",
    "#second panel\n",
    "axarr[1].plot(x, z)\n",
    "axarr[1].set_xlabel('x')\n",
    "axarr[1].set_ylabel('cos(x)')\n",
    "axarr[1].set_title(r'$\\cos(x)$')"
   ]
  },
  {
   "cell_type": "code",
   "execution_count": null,
   "id": "b2491b76-6330-4910-a463-53fca94ec22c",
   "metadata": {},
   "outputs": [],
   "source": [
    "#this mean generate 1 row and 2 columns\n",
    "f, axarr = plt.subplots(1, 2)\n",
    "\n",
    "#first panel\n",
    "axarr[0].plot(x, y)\n",
    "axarr[0].set_xlabel('x')\n",
    "axarr[0].set_ylabel('sin(x)')\n",
    "axarr[0].set_title(r'$\\sin(x)$')\n",
    "\n",
    "#second panel\n",
    "axarr[1].plot(x, z)\n",
    "axarr[1].set_xlabel('x')\n",
    "axarr[1].set_ylabel('cos(x)')\n",
    "axarr[1].set_title(r'$\\cos(x)$')\n",
    "\n",
    "#add more space between figure\n",
    "f.subplots_adjust(wspace=0.4)"
   ]
  },
  {
   "cell_type": "code",
   "execution_count": null,
   "id": "b44c45c5-c1bc-42e9-a26a-39c112b6c9d7",
   "metadata": {},
   "outputs": [],
   "source": [
    "#this mean generate 1 row and 2 columns\n",
    "f, axarr = plt.subplots(1, 2)\n",
    "\n",
    "#first panel\n",
    "axarr[0].plot(x, y)\n",
    "axarr[0].set_xlabel('x')\n",
    "axarr[0].set_ylabel('sin(x)')\n",
    "axarr[0].set_title(r'$\\sin(x)$')\n",
    "\n",
    "#second panel\n",
    "axarr[1].plot(x, z)\n",
    "axarr[1].set_xlabel('x')\n",
    "axarr[1].set_ylabel('cos(x)')\n",
    "axarr[1].set_title(r'$\\cos(x)$')\n",
    "\n",
    "#add more space between figure\n",
    "f.subplots_adjust(wspace=0.4)\n",
    "\n",
    "#fix the axis ratio \n",
    "#here are two possible options\n",
    "axarr[0].set_aspect('equal')\n",
    "axarr[1].set_aspect(np.pi)"
   ]
  },
  {
   "cell_type": "code",
   "execution_count": null,
   "id": "76c0ec23-36fe-4676-a0a5-ef7d16041f57",
   "metadata": {},
   "outputs": [],
   "source": []
  }
 ],
 "metadata": {
  "kernelspec": {
   "display_name": "Python 3 (ipykernel)",
   "language": "python",
   "name": "python3"
  },
  "language_info": {
   "codemirror_mode": {
    "name": "ipython",
    "version": 3
   },
   "file_extension": ".py",
   "mimetype": "text/x-python",
   "name": "python",
   "nbconvert_exporter": "python",
   "pygments_lexer": "ipython3",
   "version": "3.8.10"
  }
 },
 "nbformat": 4,
 "nbformat_minor": 5
}
